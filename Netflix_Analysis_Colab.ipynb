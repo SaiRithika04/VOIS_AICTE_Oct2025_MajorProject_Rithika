{
 "cells": [
  {
   "cell_type": "markdown",
   "id": "f278c095",
   "metadata": {},
   "source": [
    "# Netflix Dataset Analysis — Colab Notebook\n",
    "\n",
    "This notebook performs content trends analysis on the provided Netflix dataset according to the project proposal:\n",
    "\n",
    "- Distribution: Movies vs TV Shows over years\n",
    "- Popular genres and their trends\n",
    "- Country-wise contributions\n",
    "\n",
    "Open this notebook in Google Colab and run all cells. The dataset file should be uploaded to the session (or mounted from Drive)."
   ]
  },
  {
   "cell_type": "code",
   "execution_count": null,
   "id": "441f210c",
   "metadata": {},
   "outputs": [],
   "source": [
    "# Setup: imports and dataset loading\n",
    "import pandas as pd\n",
    "import matplotlib.pyplot as plt\n",
    "\n",
    "# Try to load dataset from default path in the Colab environment\n",
    "csv_path = \"/mnt/data/Netflix Dataset.csv\"\n",
    "\n",
    "try:\n",
    "    df = pd.read_csv(csv_path)\n",
    "    print(\"Loaded dataset from\", csv_path)\n",
    "except Exception as e:\n",
    "    print(\"Could not load dataset from default path:\", csv_path)\n",
    "    print(\"Error:\", e)\n",
    "    print(\"\\nIf running in Google Colab, upload the CSV using the file upload widget or mount your Drive.\")\n",
    "    # Colab-specific upload (will run only if user executes in Colab)\n",
    "    try:\n",
    "        from google.colab import files\n",
    "        uploaded = files.upload()\n",
    "        # pick the first uploaded file\n",
    "        first = list(uploaded.keys())[0]\n",
    "        df = pd.read_csv(first)\n",
    "        print(\"Loaded uploaded file:\", first)\n",
    "    except Exception as e2:\n",
    "        print(\"Upload step skipped or failed:\", e2)\n",
    "        df = None\n",
    "\n",
    "# Basic info\n",
    "if df is not None:\n",
    "    print(\"Dataset shape:\", df.shape)\n",
    "    display(df.head())"
   ]
  },
  {
   "cell_type": "markdown",
   "id": "58d6138d",
   "metadata": {},
   "source": [
    "## 1) Basic Cleaning & Preprocessing\n",
    "\n",
    "- Convert 'date_added' or 'release_year' to numeric/year if needed.\n",
    "- Split `listed_in` (genres) into lists for analysis.\n",
    "- Normalize `type` column (Movie / TV Show)."
   ]
  },
  {
   "cell_type": "code",
   "execution_count": null,
   "id": "8e9adaed",
   "metadata": {},
   "outputs": [],
   "source": [
    "# Basic cleaning\n",
    "if df is None:\n",
    "    raise ValueError(\"Dataset not loaded. Please upload or mount the CSV and re-run this cell.\")\n",
    "\n",
    "# Ensure consistent column names (strip)\n",
    "df.columns = [c.strip() for c in df.columns]\n",
    "\n",
    "# Create a 'year' column\n",
    "if 'release_year' in df.columns:\n",
    "    df['year'] = pd.to_numeric(df['release_year'], errors='coerce')\n",
    "elif 'date_added' in df.columns:\n",
    "    df['year'] = pd.to_datetime(df['date_added'], errors='coerce').dt.year\n",
    "else:\n",
    "    df['year'] = None\n",
    "\n",
    "# Normalize 'type' column\n",
    "if 'type' in df.columns:\n",
    "    df['type'] = df['type'].str.strip()\n",
    "\n",
    "# Split genres (assuming column named 'listed_in' or 'genre' or 'genres')\n",
    "genre_col = None\n",
    "for candidate in ['listed_in', 'genres', 'genre']:\n",
    "    if candidate in df.columns:\n",
    "        genre_col = candidate\n",
    "        break\n",
    "\n",
    "if genre_col is None:\n",
    "    print(\"No genre column found. Genre-based analysis will be limited.\")\n",
    "else:\n",
    "    # Convert to lists\n",
    "    df['genres_list'] = df[genre_col].fillna('').apply(lambda x: [g.strip() for g in x.split(',')] if x else [])\n",
    "\n",
    "# Inspect cleaned frame\n",
    "df[['title'] + (['year'] if 'year' in df.columns else [])].head()"
   ]
  },
  {
   "cell_type": "markdown",
   "id": "1ebf05c4",
   "metadata": {},
   "source": [
    "## 2) Distribution: Movies vs TV Shows Over Years\n",
    "\n",
    "Plot how the counts of Movies and TV Shows changed by year."
   ]
  },
  {
   "cell_type": "code",
   "execution_count": null,
   "id": "3bbf7994",
   "metadata": {},
   "outputs": [],
   "source": [
    "# Movies vs TV Shows trend over years\n",
    "if 'type' in df.columns and 'year' in df.columns:\n",
    "    trend = df.groupby(['year','type']).size().unstack(fill_value=0).sort_index()\n",
    "    print(trend.tail(10))\n",
    "    # Plot\n",
    "    plt.figure(figsize=(10,5))\n",
    "    for col in trend.columns:\n",
    "        plt.plot(trend.index, trend[col], label=col)\n",
    "    plt.xlabel(\"Year\")\n",
    "    plt.ylabel(\"Count\")\n",
    "    plt.title(\"Movies vs TV Shows by Year\")\n",
    "    plt.legend()\n",
    "    plt.grid(True)\n",
    "    plt.show()\n",
    "else:\n",
    "    print(\"Required columns 'type' and 'year' not found.\")"
   ]
  },
  {
   "cell_type": "markdown",
   "id": "53852479",
   "metadata": {},
   "source": [
    "## 3) Genre Analysis: Most Common Genres and Trends\n",
    "\n",
    "- Expand genre lists into a long table and count frequency.\n",
    "- Show top genres overall and over time."
   ]
  },
  {
   "cell_type": "code",
   "execution_count": null,
   "id": "45a98b83",
   "metadata": {},
   "outputs": [],
   "source": [
    "# Genre frequency\n",
    "if 'genres_list' in df.columns:\n",
    "    all_genres = Counter([g for sub in df['genres_list'] for g in sub if g])\n",
    "    common = pd.DataFrame(all_genres.most_common(), columns=['genre','count']).head(20)\n",
    "    display(common)\n",
    "    \n",
    "    # Expand per-year counts for top genres\n",
    "    top_genres = [g for g,c in all_genres.most_common(6)]\n",
    "    # Build per-year counts\n",
    "    genre_year = {}\n",
    "    for g in top_genres:\n",
    "        genre_year[g] = df[df['genres_list'].apply(lambda lst: g in lst) & df['year'].notna()].groupby('year').size()\n",
    "    genre_year_df = pd.DataFrame(genre_year).fillna(0).sort_index()\n",
    "    display(genre_year_df.tail(10))\n",
    "    # Plot each top genre trend\n",
    "    plt.figure(figsize=(10,6))\n",
    "    for g in genre_year_df.columns:\n",
    "        plt.plot(genre_year_df.index, genre_year_df[g], label=g)\n",
    "    plt.xlabel('Year')\n",
    "    plt.ylabel('Count')\n",
    "    plt.title('Top Genres Over Time')\n",
    "    plt.legend()\n",
    "    plt.grid(True)\n",
    "    plt.show()\n",
    "else:\n",
    "    print('No genre list available for analysis.')"
   ]
  },
  {
   "cell_type": "markdown",
   "id": "7242659b",
   "metadata": {},
   "source": [
    "## 4) Country-wise Contributions\n",
    "\n",
    "- Count contributions by country and show top contributors."
   ]
  },
  {
   "cell_type": "code",
   "execution_count": null,
   "id": "c972faeb",
   "metadata": {},
   "outputs": [],
   "source": [
    "# Country analysis\n",
    "if 'country' in df.columns:\n",
    "    df['country_list'] = df['country'].fillna('').apply(lambda x: [c.strip() for c in x.split(',')] if x else [])\n",
    "    from collections import Counter\n",
    "    country_counts = Counter([c for sub in df['country_list'] for c in sub if c])\n",
    "    country_df = pd.DataFrame(country_counts.most_common(20), columns=['country','count'])\n",
    "    display(country_df)\n",
    "    \n",
    "    # Plot top 10 countries\n",
    "    top10 = country_df.head(10).set_index('country')\n",
    "    plt.figure(figsize=(10,5))\n",
    "    plt.bar(top10.index, top10['count'])\n",
    "    plt.xlabel('Country')\n",
    "    plt.ylabel('Count')\n",
    "    plt.title('Top 10 Countries by Content Count')\n",
    "    plt.xticks(rotation=45, ha='right')\n",
    "    plt.tight_layout()\n",
    "    plt.show()\n",
    "else:\n",
    "    print('No country column found.')"
   ]
  },
  {
   "cell_type": "markdown",
   "id": "1d30ff22",
   "metadata": {},
   "source": [
    "## 5) Strategic Recommendations (automated hints)\n",
    "\n",
    "- Simple heuristics to suggest underrepresented countries/genres."
   ]
  },
  {
   "cell_type": "code",
   "execution_count": null,
   "id": "8296156e",
   "metadata": {},
   "outputs": [],
   "source": [
    "# Simple automated recommendations\n",
    "recs = []\n",
    "if 'genres_list' in df.columns and 'country_list' in df.columns:\n",
    "    overall_genres = [g for g,c in Counter([gg for sub in df['genres_list'] for gg in sub if gg]).most_common(10)]\n",
    "    low_country_counts = [(c, cnt) for c,cnt in Counter([c for sub in df['country_list'] for c in sub if c]).most_common() if cnt < 20]\n",
    "    low_country = low_country_counts[:5] if low_country_counts else None\n",
    "    recs.append('Consider increasing content in underrepresented countries: {}'.format(low_country if low_country else 'None flagged'))\n",
    "    under = [g for g,c in Counter([gg for sub in df['genres_list'] for gg in sub if gg]).most_common()[-5:]]\n",
    "    recs.append('Consider exploring or promoting genres: {}'.format(under))\n",
    "else:\n",
    "    recs.append('Insufficient data to generate automated recommendations.')\n",
    "\n",
    "for r in recs:\n",
    "    print('- ', r)"
   ]
  },
  {
   "cell_type": "markdown",
   "id": "ef3a7e5a",
   "metadata": {},
   "source": [
    "## Save cleaned dataset and summary (optional)\n",
    "\n",
    "The next cell saves a cleaned CSV and some summary CSVs you can download from the Colab session."
   ]
  },
  {
   "cell_type": "code",
   "execution_count": null,
   "id": "ae663e41",
   "metadata": {},
   "outputs": [],
   "source": [
    "# Save cleaned outputs\n",
    "if df is not None:\n",
    "    df.to_csv('netflix_cleaned.csv', index=False)\n",
    "    print(\"Saved netflix_cleaned.csv in current working directory.\")"
   ]
  }
 ],
 "metadata": {
  "kernelspec": {
   "display_name": "Python 3",
   "name": "python3"
  },
  "language_info": {
   "name": "python"
  }
 },
 "nbformat": 4,
 "nbformat_minor": 5
}
